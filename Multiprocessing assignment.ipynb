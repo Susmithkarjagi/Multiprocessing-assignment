{
 "cells": [
  {
   "cell_type": "markdown",
   "id": "826b8025-983a-4a02-a5ec-981835fa2145",
   "metadata": {},
   "source": [
    "## MULTIPROCESSING ASSIGNMENT"
   ]
  },
  {
   "cell_type": "markdown",
   "id": "c7f51367-89d2-4556-9e1f-c1513865c869",
   "metadata": {},
   "source": [
    "Q1. What is multiprocessing in python? Why is it useful?"
   ]
  },
  {
   "cell_type": "code",
   "execution_count": 1,
   "id": "88dc84ea-853a-44a4-bcd5-b2f876c8478e",
   "metadata": {},
   "outputs": [],
   "source": [
    "#ANSWER 1"
   ]
  },
  {
   "cell_type": "markdown",
   "id": "b8ed3fd4-076e-42f6-977e-82713d7933b3",
   "metadata": {},
   "source": [
    "Multiprocessing in Python is a technique where a program utilizes multiple processors or cores in a computer to execute tasks in parallel. This means that the program can perform multiple tasks simultaneously, which can lead to significant performance improvements compared to a single-threaded program that can only execute one task at a time.\n",
    "\n",
    "Multiprocessing is useful for a wide range of applications, including those that involve complex computations, data processing, and scientific simulations. By distributing tasks across multiple processors or cores, multiprocessing can significantly reduce the time required to perform these tasks.\n",
    "\n",
    "In addition to performance benefits, multiprocessing can also help to improve the reliability and robustness of a program. By running tasks independently on separate processors, a program can avoid issues that might arise if a single processor becomes overloaded or experiences a hardware failure.\n",
    "\n",
    "Python provides a number of libraries for multiprocessing, including the built-in multiprocessing module and third-party libraries such as concurrent.futures and joblib. These libraries allow programmers to easily parallelize their code and take advantage of the performance benefits of multiprocessing."
   ]
  },
  {
   "cell_type": "markdown",
   "id": "c4de5274-f88d-40bd-978e-63a12b5d0e74",
   "metadata": {},
   "source": [
    "Q2. What are the differences between multiprocessing and multithreading?"
   ]
  },
  {
   "cell_type": "code",
   "execution_count": 2,
   "id": "845aba1e-95a0-44b3-8967-f9722757f6a0",
   "metadata": {},
   "outputs": [],
   "source": [
    "#ANSWER 2"
   ]
  },
  {
   "cell_type": "markdown",
   "id": "6cd1badd-4e11-44a2-a536-711d4dd76a28",
   "metadata": {},
   "source": [
    "Both multiprocessing and multithreading are techniques used to achieve parallelism and improve the performance of a program. However, there are several key differences between the two:\n",
    "\n",
    "1. Concurrency: Multithreading achieves concurrency by dividing a single program into multiple threads, each of which can be executed concurrently within a single process. On the other hand, multiprocessing achieves concurrency by dividing a program into multiple processes, each of which can be executed concurrently on separate processors or cores.\n",
    "\n",
    "2. Memory sharing: In multithreading, threads share the same memory space, which can be accessed by all threads in the program. This can lead to potential issues such as race conditions and deadlocks. In multiprocessing, each process has its own memory space and does not share memory with other processes unless explicitly configured to do so.\n",
    "\n",
    "3. Resource allocation: Multithreading requires less overhead than multiprocessing since it does not require the creation of separate processes. However, because threads share the same memory space, managing resources such as locks and semaphores can be more complex. Multiprocessing requires more overhead since it involves creating separate processes, but it provides greater isolation and simpler resource management.\n",
    "\n",
    "4. Fault tolerance: In multithreading, if one thread crashes, it can potentially bring down the entire program. In multiprocessing, if one process crashes, it will not affect other processes in the program, and they can continue to run normally.\n",
    "\n",
    "5. Scalability: Multiprocessing can scale well to take advantage of multiple processors or cores, making it suitable for compute-intensive tasks. Multithreading can be limited by the number of available cores or by resource contention among threads.\n",
    "\n",
    "In summary, multiprocessing and multithreading have different strengths and weaknesses, and the choice between the two depends on the specific requirements of the program being developed"
   ]
  },
  {
   "cell_type": "markdown",
   "id": "4430c036-5d57-48cb-aa7c-c64c81380e5b",
   "metadata": {},
   "source": [
    "Q3. Write a python code to create a process using the multiprocessing module."
   ]
  },
  {
   "cell_type": "code",
   "execution_count": 3,
   "id": "2864ab6b-a86e-40b7-9517-19273f1605d1",
   "metadata": {},
   "outputs": [],
   "source": [
    "#ANSWER 3"
   ]
  },
  {
   "cell_type": "code",
   "execution_count": 4,
   "id": "a5af7fd5-c281-4b4c-8309-10435d7ecb30",
   "metadata": {},
   "outputs": [
    {
     "name": "stdout",
     "output_type": "stream",
     "text": [
      "Worker process executing...\n"
     ]
    }
   ],
   "source": [
    "import multiprocessing\n",
    "\n",
    "def worker():\n",
    "    \"\"\"This is the function that will be executed in the new process\"\"\"\n",
    "    print(\"Worker process executing...\")\n",
    "\n",
    "if __name__ == '__main__':\n",
    "    \"\"\"This is the main process that will spawn a new process\"\"\"\n",
    "    p = multiprocessing.Process(target=worker)\n",
    "    p.start()\n",
    "    p.join()\n"
   ]
  },
  {
   "cell_type": "markdown",
   "id": "830baf9b-6d8d-42d5-9ed3-231810bdc2d7",
   "metadata": {},
   "source": [
    "In this example, we define a function worker that will be executed in the new process. We then create a Process object and pass the worker function as the target to execute in the new process.\n",
    "\n",
    "The start() method is called on the Process object to start the new process. The join() method is called to wait for the new process to complete before exiting the main process.\n",
    "\n",
    "Note that the if __name__ == '__main__': guard is used to prevent the new process from also executing the main code when the script is imported. This is a common practice when working with the multiprocessing module."
   ]
  },
  {
   "cell_type": "markdown",
   "id": "8af94b7c-7cfb-452c-8d5b-5905e399e540",
   "metadata": {},
   "source": [
    "Q4. What is a multiprocessing pool in python? Why is it used?"
   ]
  },
  {
   "cell_type": "code",
   "execution_count": 5,
   "id": "218d2f19-d112-4cda-acd3-7f23656cac88",
   "metadata": {},
   "outputs": [],
   "source": [
    "#ANSWER 4"
   ]
  },
  {
   "cell_type": "markdown",
   "id": "70268ba4-2346-460d-acc0-631d3870adaf",
   "metadata": {},
   "source": [
    "A multiprocessing pool in Python is a collection of worker processes that are used to parallelize a task. A pool allows a programmer to execute a function or method with a set of inputs in parallel across multiple worker processes.\n",
    "\n",
    "The multiprocessing.Pool class provides an easy-to-use interface for creating and managing a pool of worker processes. The main advantage of using a pool is that it can simplify the process of parallelizing a task, allowing a programmer to focus on the logic of the task rather than the details of managing the worker processes."
   ]
  },
  {
   "cell_type": "markdown",
   "id": "3a16adbc-1249-499d-84c6-45a3e04a7ef9",
   "metadata": {},
   "source": [
    "Multiprocessing pools are commonly used for tasks such as data processing, machine learning, and scientific simulations, where the same function needs to be applied to a large number of inputs. They can significantly speed up the execution of such tasks by utilizing multiple cores or processors."
   ]
  },
  {
   "cell_type": "markdown",
   "id": "40aff819-5eaf-4585-b2ac-c98294c00f13",
   "metadata": {},
   "source": [
    "Q5. How can we create a pool of worker processes in python using the multiprocessing module?"
   ]
  },
  {
   "cell_type": "code",
   "execution_count": 8,
   "id": "94e75b6d-f841-4613-9ab7-cfc3634bdbf1",
   "metadata": {},
   "outputs": [],
   "source": [
    "#ANSWER 5"
   ]
  },
  {
   "cell_type": "markdown",
   "id": "b47bbcd8-e123-450e-abd4-c607452a7bca",
   "metadata": {},
   "source": [
    "To create a pool of worker processes in Python using the multiprocessing module, you can follow these steps:\n",
    "\n",
    "1.Import the multiprocessing module:"
   ]
  },
  {
   "cell_type": "code",
   "execution_count": null,
   "id": "6f12212d-307f-4a40-85c3-99d59cba52d0",
   "metadata": {},
   "outputs": [],
   "source": [
    "import multiprocessing\n"
   ]
  },
  {
   "cell_type": "markdown",
   "id": "aa08c85e-bacb-4ad8-a1d7-01b19c5f90d1",
   "metadata": {},
   "source": [
    "2.Create a function that will be executed by the worker processes:"
   ]
  },
  {
   "cell_type": "code",
   "execution_count": 10,
   "id": "c49d4d06-9768-4c96-ab74-1623f94157cd",
   "metadata": {},
   "outputs": [],
   "source": [
    "def worker_function(arg):\n",
    "    # Do some work with arg\n",
    "    return result\n"
   ]
  },
  {
   "cell_type": "markdown",
   "id": "da6d73bd-46f0-4abb-be81-62d05f3582d9",
   "metadata": {},
   "source": [
    "3. Create a Pool object, specifying the number of worker processes to use:"
   ]
  },
  {
   "cell_type": "code",
   "execution_count": null,
   "id": "b92fd237-850b-45eb-a6cb-a1a5fbc14b14",
   "metadata": {},
   "outputs": [],
   "source": [
    "pool = multiprocessing.Pool(processes=num_processes)\n"
   ]
  },
  {
   "cell_type": "markdown",
   "id": "fcf111cc-ad8c-46ad-a6ed-2a06d19aa8fd",
   "metadata": {},
   "source": [
    "4. Submit tasks to the pool using the apply or apply_async methods:"
   ]
  },
  {
   "cell_type": "code",
   "execution_count": null,
   "id": "cc613e0a-6da8-4c6e-a838-213f8c175d53",
   "metadata": {},
   "outputs": [],
   "source": [
    "result = pool.apply(worker_function, args=(arg,))\n"
   ]
  },
  {
   "cell_type": "markdown",
   "id": "b8de3b14-870d-4aa9-8b33-edddf44b61ec",
   "metadata": {},
   "source": [
    "The apply method blocks until the task is complete and returns the result. The apply_async method is non-blocking and returns a AsyncResult object immediately. You can use the get method of the AsyncResult object to retrieve the result when it becomes available."
   ]
  },
  {
   "cell_type": "markdown",
   "id": "ff98dfb8-8ace-4204-a5f9-ce8ec6bbda6a",
   "metadata": {},
   "source": [
    "5. When all tasks have been submitted to the pool, you should close the pool and wait for all worker processes to complete:"
   ]
  },
  {
   "cell_type": "code",
   "execution_count": null,
   "id": "bf802cf4-9005-4eee-b84b-811f2bde2df3",
   "metadata": {},
   "outputs": [],
   "source": [
    "pool.close()\n",
    "pool.join()\n"
   ]
  },
  {
   "cell_type": "markdown",
   "id": "057510bf-7e6d-4d92-98f2-4aa8398202ae",
   "metadata": {},
   "source": [
    "Q6. Write a python program to create 4 processes, each process should print a different number using the\n",
    "multiprocessing module in python."
   ]
  },
  {
   "cell_type": "code",
   "execution_count": 14,
   "id": "3f93e791-b9cb-4ffe-a216-9a107096efd9",
   "metadata": {},
   "outputs": [],
   "source": [
    "#ANSWER 6"
   ]
  },
  {
   "cell_type": "code",
   "execution_count": 16,
   "id": "a5e92786-1aa1-44ba-94af-9115e4a97247",
   "metadata": {},
   "outputs": [
    {
     "name": "stdout",
     "output_type": "stream",
     "text": [
      "Process 0: 0\n",
      "Process 1: 1\n",
      "Process 2: 2\n",
      "Process 3: 3\n"
     ]
    }
   ],
   "source": [
    "import multiprocessing\n",
    "\n",
    "def print_number(num):\n",
    "    \"\"\"This is the function that will be executed in the new process\"\"\"\n",
    "    print(f\"Process {num}: {num}\")\n",
    "\n",
    "if __name__ == '__main__':\n",
    "    \"\"\"This is the main process that will spawn 4 new processes\"\"\"\n",
    "    processes = []\n",
    "    for i in range(4):\n",
    "        p = multiprocessing.Process(target=print_number, args=(i,))\n",
    "        processes.append(p)\n",
    "        p.start()\n",
    "    \n",
    "    # Wait for all processes to complete before exiting\n",
    "    for p in processes:\n",
    "        p.join()\n"
   ]
  },
  {
   "cell_type": "markdown",
   "id": "4e74f72b-d453-430d-b5b0-c9fcfd00e779",
   "metadata": {},
   "source": [
    "In this example, we define a function print_number that prints a number. We then create 4 Process objects, passing the print_number function and a different number as arguments for each process.\n",
    "\n",
    "The start() method is called on each Process object to start the corresponding new process. We store the Process objects in a list processes.\n",
    "\n",
    "Finally, the main process waits for all 4 processes to complete by calling the join() method on each Process object in the processes list. This ensures that all processes complete before the program exits."
   ]
  },
  {
   "cell_type": "code",
   "execution_count": null,
   "id": "5726d413-deb0-46cf-972a-c53de41cd1eb",
   "metadata": {},
   "outputs": [],
   "source": []
  }
 ],
 "metadata": {
  "kernelspec": {
   "display_name": "Python 3 (ipykernel)",
   "language": "python",
   "name": "python3"
  },
  "language_info": {
   "codemirror_mode": {
    "name": "ipython",
    "version": 3
   },
   "file_extension": ".py",
   "mimetype": "text/x-python",
   "name": "python",
   "nbconvert_exporter": "python",
   "pygments_lexer": "ipython3",
   "version": "3.10.8"
  }
 },
 "nbformat": 4,
 "nbformat_minor": 5
}
